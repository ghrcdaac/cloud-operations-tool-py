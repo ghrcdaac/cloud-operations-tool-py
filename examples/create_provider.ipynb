{
 "cells": [
  {
   "cell_type": "code",
   "execution_count": null,
   "id": "fa7bbe6f",
   "metadata": {},
   "outputs": [],
   "source": [
    "# To use pylot in a script use pip to unstall from github then import it\n",
    "pip install git+https://github.com/ghrcdaac/cloud-operations-tool-py.git@main#egg=cloud-operations-tool"
   ]
  },
  {
   "cell_type": "code",
   "execution_count": 6,
   "id": "d296f240",
   "metadata": {},
   "outputs": [
    {
     "name": "stdout",
     "output_type": "stream",
     "text": [
      "{'record': {'createdAt': 1658524396495, 'updatedAt': 1658524396495, 'protocol': 's3', 'globalConnectionLimit': 850, 'host': 'private', 'id': 'some_bucket_test'}, 'message': 'Record saved'}\n"
     ]
    }
   ],
   "source": [
    "import pylot\n",
    "\n",
    "if __name__ == '__main__':\n",
    "    data = {\n",
    "        \"protocol\": \"s3\",\n",
    "        \"globalConnectionLimit\": 850,\n",
    "        \"host\": \"private\",\n",
    "        \"id\": \"some_bucket_test\"\n",
    "    }\n",
    "    capi = pylot.CumulusApi()\n",
    "    print(capi.create_provider(data=data))"
   ]
  }
 ],
 "metadata": {
  "kernelspec": {
   "display_name": "Python 3 (ipykernel)",
   "language": "python",
   "name": "python3"
  },
  "language_info": {
   "codemirror_mode": {
    "name": "ipython",
    "version": 3
   },
   "file_extension": ".py",
   "mimetype": "text/x-python",
   "name": "python",
   "nbconvert_exporter": "python",
   "pygments_lexer": "ipython3",
   "version": "3.9.13"
  }
 },
 "nbformat": 4,
 "nbformat_minor": 5
}